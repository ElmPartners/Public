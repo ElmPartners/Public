{
  "nbformat": 4,
  "nbformat_minor": 0,
  "metadata": {
    "colab": {
      "name": "Vol Drag Calcs.ipynb",
      "provenance": [],
      "authorship_tag": "ABX9TyN0tN2boni2VcvmiTzMl0N2",
      "include_colab_link": true
    },
    "kernelspec": {
      "name": "python3",
      "display_name": "Python 3"
    },
    "language_info": {
      "name": "python"
    }
  },
  "cells": [
    {
      "cell_type": "markdown",
      "metadata": {
        "id": "view-in-github",
        "colab_type": "text"
      },
      "source": [
        "<a href=\"https://colab.research.google.com/github/ElmPartners/Public/blob/master/Vol_Drag_Calcs.ipynb\" target=\"_parent\"><img src=\"https://colab.research.google.com/assets/colab-badge.svg\" alt=\"Open In Colab\"/></a>"
      ]
    },
    {
      "cell_type": "code",
      "metadata": {
        "colab": {
          "base_uri": "https://localhost:8080/"
        },
        "id": "Jd8Bck5_xZNR",
        "outputId": "2468b670-dc84-4b6a-d4db-6e4b82f9c61d"
      },
      "source": [
        "# INPUTS\n",
        "kappa = 0.9       # Equity %\n",
        "mu_equity = 0.05    # Equity Expected Real Return\n",
        "mu_bond = -0.01     # Bond Expected Real Return\n",
        "sigma_equity = 0.16 # Equity volatility\n",
        "sigma_bond = 0.04   # Bond volatility\n",
        "rho = 0             # Equity/Bond Correlation\n",
        "gamma = 2           # CRRA Risk-Aversion (normal range 1-3)\n",
        "\n",
        "# CALCS\n",
        "mu_blend = kappa * mu_equity + (1-kappa) * mu_bond\n",
        "sigma_blend = ((kappa*sigma_equity)**2 + 2*rho*kappa*(1-kappa)*sigma_equity*sigma_bond + ((1-kappa)*sigma_bond)**2)**0.5\n",
        "median_return = mu_blend - 0.5*sigma_blend**2\n",
        "certain_equiv_return = mu_blend - 0.5 * gamma * sigma_blend**2\n",
        "vol_drag = mu_blend - median_return\n",
        "price_of_risk = mu_blend - certain_equiv_return\n",
        "\n",
        "# TEXT OUTPUT\n",
        "print('Expected Return @ {:.1f}% Equities = {:.1f}%'.format(100*kappa, 100*mu_blend))\n",
        "print('Median Return @ {:.1f}% equities = {:.1f}%'.format(100*kappa, 100*median_return))\n",
        "print('Certain Equiv Return @ {:.1f}% equities = {:.1f}%'.format(100*kappa, 100*certain_equiv_return))\n",
        "print('Vol Drag @ {:.1f}% Equities = {:.1f}%'.format(100*kappa, 100*vol_drag))\n",
        "print('Price of Risk @ {:.1f}% Equities = {:.1f}%'.format(100*kappa, 100*price_of_risk))\n"
      ],
      "execution_count": 21,
      "outputs": [
        {
          "output_type": "stream",
          "name": "stdout",
          "text": [
            "Expected Return @ 90.0% Equities = 4.4%\n",
            "Median Return @ 90.0% equities = 3.4%\n",
            "Certain Equiv Return @ 90.0% equities = 2.3%\n",
            "Vol Drag @ 90.0% Equities = 1.0%\n",
            "Price of Risk @ 90.0% Equities = 2.1%\n"
          ]
        }
      ]
    }
  ]
}