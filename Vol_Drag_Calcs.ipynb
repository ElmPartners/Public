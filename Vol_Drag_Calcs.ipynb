{
  "nbformat": 4,
  "nbformat_minor": 0,
  "metadata": {
    "colab": {
      "name": "Vol Drag Calcs.ipynb",
      "provenance": [],
      "authorship_tag": "ABX9TyP8N7ODgzgo7FsyOw9MuvSq",
      "include_colab_link": true
    },
    "kernelspec": {
      "name": "python3",
      "display_name": "Python 3"
    },
    "language_info": {
      "name": "python"
    }
  },
  "cells": [
    {
      "cell_type": "markdown",
      "metadata": {
        "id": "view-in-github",
        "colab_type": "text"
      },
      "source": [
        "<a href=\"https://colab.research.google.com/github/ElmPartners/Public/blob/master/Vol_Drag_Calcs.ipynb\" target=\"_parent\"><img src=\"https://colab.research.google.com/assets/colab-badge.svg\" alt=\"Open In Colab\"/></a>"
      ]
    },
    {
      "cell_type": "code",
      "metadata": {
        "colab": {
          "base_uri": "https://localhost:8080/"
        },
        "id": "Jd8Bck5_xZNR",
        "outputId": "001db703-7052-4c37-e6aa-c96fd083fc05"
      },
      "source": [
        "# INPUTS\n",
        "kappa = 1.0       # Equity %\n",
        "mu_equity = 0.05    # Equity Expected Real Return\n",
        "mu_bond = -0.01     # Bond Expected Real Return\n",
        "sigma_equity = 0.16 # Equity volatility\n",
        "sigma_bond = 0.04   # Bond volatility\n",
        "rho = 0             # Equity/Bond Correlation\n",
        "gamma = 2           # CRRA Risk-Aversion (normal range 1-3)\n",
        "\n",
        "# CALCS\n",
        "mu_blend = kappa * mu_equity + (1-kappa) * mu_bond\n",
        "sigma_blend = ((kappa*sigma_equity)**2 + 2*rho*kappa*(1-kappa)*sigma_equity*sigma_bond + ((1-kappa)*sigma_bond)**2)**0.5\n",
        "median_return = mu_blend - 0.5*sigma_blend**2\n",
        "certain_equiv_return = mu_blend - 0.5 * gamma * sigma_blend**2\n",
        "vol_drag = mu_blend - median_return\n",
        "price_of_risk = mu_blend - certain_equiv_return\n",
        "\n",
        "# TEXT OUTPUT\n",
        "print('Expected Return @ {:.1f}% Equities = {:.1f}%'.format(100*kappa, 100*mu_blend))\n",
        "print('Median Return @ {:.1f}% equities = {:.1f}%'.format(100*kappa, 100*median_return))\n",
        "print('Certain-Equiv Return @ {:.1f}% equities = {:.1f}%'.format(100*kappa, 100*certain_equiv_return))\n",
        "print('Vol Drag @ {:.1f}% Equities = {:.1f}%'.format(100*kappa, 100*vol_drag))\n",
        "print('Price of Risk @ {:.1f}% Equities = {:.1f}%'.format(100*kappa, 100*price_of_risk))\n"
      ],
      "execution_count": 26,
      "outputs": [
        {
          "output_type": "stream",
          "name": "stdout",
          "text": [
            "Expected Return @ 100.0% Equities = 5.0%\n",
            "Median Return @ 100.0% equities = 3.7%\n",
            "Certain-Equiv Return @ 100.0% equities = 2.4%\n",
            "Vol Drag @ 100.0% Equities = 1.3%\n",
            "Price of Risk @ 100.0% Equities = 2.6%\n"
          ]
        }
      ]
    }
  ]
}